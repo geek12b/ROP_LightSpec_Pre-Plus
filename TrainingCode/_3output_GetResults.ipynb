{
 "cells": [
  {
   "cell_type": "code",
   "execution_count": 1,
   "metadata": {
    "id": "B6tEP2MbyqGY"
   },
   "outputs": [],
   "source": [
    "import tensorflow\n",
    "import tensorflow as tf\n",
    "\n",
    "\n",
    "from pathlib import Path\n",
    "import pandas as pd\n",
    "import numpy as np\n",
    "#\n",
    "from datetime import datetime\n",
    "import os\n",
    "#\n",
    "from tensorflow.python.client import device_lib\n",
    "import platform"
   ]
  },
  {
   "cell_type": "code",
   "execution_count": 2,
   "metadata": {
    "colab": {
     "base_uri": "https://localhost:8080/"
    },
    "id": "lAWLYiodysyw",
    "outputId": "007fee3b-68b0-4819-f980-1ded33d302c9"
   },
   "outputs": [
    {
     "name": "stdout",
     "output_type": "stream",
     "text": [
      "Changed directory to: C:\\Users\\Developer\\MyProjects\\ROP_Pre-Plus_LightSpec\\ROP_LightSpec_Pre-Plus\n"
     ]
    }
   ],
   "source": [
    "#Cell 0\n",
    "\n",
    "# %cd C:\\Users\\Developer\\MyProjects\\ROP_Plus\\ROP_Plus_NoPlus\n",
    "\n",
    "\n",
    "\n",
    "def change_directory(path):\n",
    "    try:\n",
    "        # Change to the specified directory\n",
    "        os.chdir(path)\n",
    "        print(f\"Changed directory to: {os.getcwd()}\")\n",
    "    except FileNotFoundError:\n",
    "        print(f\"The directory {path} does not exist.\")\n",
    "    except Exception as e:\n",
    "        print(f\"An error occurred: {e}\")\n",
    "\n",
    "# Example usage\n",
    "if __name__ == \"__main__\":\n",
    "    # Define the path for both Windows and Linux\n",
    "    if platform.system() == \"Windows\":\n",
    "        path = r\"C:\\Users\\Developer\\MyProjects\\ROP_Pre-Plus_LightSpec\\ROP_LightSpec_Pre-Plus\"  # Raw string for Windows\n",
    "    else:\n",
    "        path = \"/home/developer/Documents/MyProjects/ROP_Pre-Plus_LightSpec/ROP_LightSpec_Pre-Plus\"  # Linux path\n",
    "\n",
    "    change_directory(path)\n"
   ]
  },
  {
   "cell_type": "code",
   "execution_count": 3,
   "metadata": {
    "colab": {
     "base_uri": "https://localhost:8080/"
    },
    "id": "MklTFAv5yjJg",
    "outputId": "0c14ec9e-902f-4bb6-e5f3-023c52d53f2d"
   },
   "outputs": [
    {
     "data": {
      "text/plain": [
       "array([[162,  20,  12],\n",
       "       [  3,  15,   1],\n",
       "       [ 42,  20,  65]], dtype=int64)"
      ]
     },
     "execution_count": 3,
     "metadata": {},
     "output_type": "execute_result"
    }
   ],
   "source": [
    "csv_dir = Path('Results/OriginalImageWithoutCBAM/Blue/')\n",
    "csv_1 = 'CM1' + '.csv'\n",
    "csv_path1 = csv_dir / csv_1\n",
    "df_data1 = pd.read_csv(csv_path1)\n",
    "df_data1\n",
    "cm11=np.asarray(df_data1.values)\n",
    "cm11"
   ]
  },
  {
   "cell_type": "code",
   "execution_count": 4,
   "metadata": {
    "id": "dEjQ3HjwzXRb"
   },
   "outputs": [],
   "source": [
    "csv_2 = 'CM2' + '.csv'\n",
    "csv_path2 = csv_dir / csv_2\n",
    "df_data2 = pd.read_csv(csv_path2)\n",
    "df_data2\n",
    "cm22=np.asarray(df_data2.values)"
   ]
  },
  {
   "cell_type": "code",
   "execution_count": 5,
   "metadata": {
    "id": "7A7ZLjAfzkfY"
   },
   "outputs": [],
   "source": [
    "csv_3 = 'CM3' + '.csv'\n",
    "csv_path3 = csv_dir / csv_3\n",
    "df_data3 = pd.read_csv(csv_path3)\n",
    "df_data3\n",
    "cm33=np.asarray(df_data3.values)"
   ]
  },
  {
   "cell_type": "code",
   "execution_count": 6,
   "metadata": {
    "id": "39-6Dq3Hzy3a"
   },
   "outputs": [],
   "source": [
    "csv_4 = 'CM4' + '.csv'\n",
    "csv_path4 = csv_dir / csv_4\n",
    "df_data4 = pd.read_csv(csv_path4)\n",
    "df_data4\n",
    "cm44=np.asarray(df_data4.values)"
   ]
  },
  {
   "cell_type": "code",
   "execution_count": 7,
   "metadata": {
    "id": "L4lhC7GGz1xg"
   },
   "outputs": [],
   "source": [
    "csv_5 = 'CM5' + '.csv'\n",
    "csv_path5 = csv_dir / csv_5\n",
    "df_data5 = pd.read_csv(csv_path5)\n",
    "df_data5\n",
    "cm55=np.asarray(df_data5.values)"
   ]
  },
  {
   "cell_type": "code",
   "execution_count": 8,
   "metadata": {},
   "outputs": [],
   "source": [
    "\n",
    "    \n",
    "#Cell 21\n",
    "# Disease      TP      FN\n",
    "#       True\n",
    "# Healthy      FP      TN\n",
    "#         Disease     Healthy\n",
    "#                Pred\n",
    "\n",
    "def binAccuracy(mat2D):\n",
    "    tp = mat2D[0][0]\n",
    "    tn = mat2D[1][1]\n",
    "    fp = mat2D[1][0]\n",
    "    fn = mat2D[0][1]\n",
    "    res = (tp+tn) / (tp+tn+fp+fn)\n",
    "    return res\n",
    "\n",
    "def binSensitivity(mat2D):\n",
    "    tp = mat2D[0][0]\n",
    "    tn = mat2D[1][1]\n",
    "    fp = mat2D[1][0]\n",
    "    fn = mat2D[0][1]\n",
    "    res = tp / (tp+fn)\n",
    "    return res\n",
    "\n",
    "\n",
    "def binSpecificity(mat2D):\n",
    "    tp = mat2D[0][0]\n",
    "    tn = mat2D[1][1]\n",
    "    fp = mat2D[1][0]\n",
    "    fn = mat2D[0][1]\n",
    "    res = tn / (tn+fp)\n",
    "    return res\n"
   ]
  },
  {
   "cell_type": "code",
   "execution_count": 9,
   "metadata": {
    "id": "OIzXGk_w3svG"
   },
   "outputs": [],
   "source": [
    "# def binAccuracy(mat2D):\n",
    "#   tp = mat2D[0][0]\n",
    "#   tn = mat2D[1][1]\n",
    "#   fp = mat2D[1][0]\n",
    "#   fn = mat2D[0][1]\n",
    "#   res = (tp+tn) / (tp+tn+fp+fn)\n",
    "#   return res\n",
    "\n",
    "# def binSensitivity(mat2D):\n",
    "#   tp = mat2D[0][0]\n",
    "#   tn = mat2D[1][1]\n",
    "#   fp = mat2D[1][0]\n",
    "#   fn = mat2D[0][1]\n",
    "#   res = tp / (tp+fn)\n",
    "#   return res\n",
    "\n",
    "\n",
    "# def binSpecificity(mat2D):\n",
    "#   tp = mat2D[0][0]\n",
    "#   tn = mat2D[1][1]\n",
    "#   fp = mat2D[1][0]\n",
    "#   fn = mat2D[0][1]\n",
    "#   res = tn / (tn+fp)\n",
    "#   return res\n"
   ]
  },
  {
   "cell_type": "code",
   "execution_count": 10,
   "metadata": {
    "colab": {
     "base_uri": "https://localhost:8080/"
    },
    "id": "bc5OReyP8Szu",
    "outputId": "074bf1d1-6f75-42eb-a9d4-b933f3709707"
   },
   "outputs": [
    {
     "data": {
      "text/plain": [
       "array([[25,  3,  4],\n",
       "       [ 1, 23,  0],\n",
       "       [ 9,  8, 58]])"
      ]
     },
     "execution_count": 10,
     "metadata": {},
     "output_type": "execute_result"
    }
   ],
   "source": [
    "tabletvst = np.array(([25,3,4],[1,23,0],[9,8,58]))\n",
    "tabletvst"
   ]
  },
  {
   "cell_type": "code",
   "execution_count": 11,
   "metadata": {
    "colab": {
     "base_uri": "https://localhost:8080/"
    },
    "id": "Vd25P8OgEt0O",
    "outputId": "1ad4b0b1-ba42-4f4f-97a5-4bc029146489"
   },
   "outputs": [
    {
     "data": {
      "text/plain": [
       "3"
      ]
     },
     "execution_count": 11,
     "metadata": {},
     "output_type": "execute_result"
    }
   ],
   "source": [
    "class_names = ['Normal','Pre-Plus','Plus'] # Used for the confusion matrix at the end\n",
    "len(class_names)"
   ]
  },
  {
   "cell_type": "code",
   "execution_count": 12,
   "metadata": {
    "id": "n53-wlCbB_ft"
   },
   "outputs": [],
   "source": [
    "def creat2DConfusionMatrix(categoryIndex, conf_mat, sizeofCategory = class_names):\n",
    "  mat2D_var =np.array(([0,0],[0,0]))\n",
    "  mat2D_var[0][0] = conf_mat[categoryIndex][categoryIndex]\n",
    "  # print(\"mat2D_var[0][0]:  {} {}\".format(categoryIndex, categoryIndex))\n",
    "  for intI in range(0,len(sizeofCategory)):\n",
    "    if intI != categoryIndex:\n",
    "      mat2D_var[0][1] += conf_mat[categoryIndex][intI]\n",
    "      # print(\"mat2D_var[0][1]:  {} {}\".format(categoryIndex, intI))\n",
    "      mat2D_var[1][0] += conf_mat[intI][categoryIndex]\n",
    "      # print(\"mat2D_var[1][0]:  {} {}\".format(intI, categoryIndex))\n",
    "\n",
    "  for intI in range(0,len(sizeofCategory)):\n",
    "    for intJ in range(0,len(sizeofCategory)):\n",
    "      if intI != categoryIndex and intJ != categoryIndex:\n",
    "        mat2D_var[1][1] += conf_mat[intI][intJ]\n",
    "        # print(\"mat2D_var[1][1]:  {} {}\".format(intI, intJ))\n",
    "\n",
    "  return mat2D_var\n"
   ]
  },
  {
   "cell_type": "code",
   "execution_count": 13,
   "metadata": {
    "colab": {
     "base_uri": "https://localhost:8080/"
    },
    "id": "U1uonFtlTJS6",
    "outputId": "76bf748d-8044-48f7-ee01-da08fe9cbdf8"
   },
   "outputs": [
    {
     "data": {
      "text/plain": [
       "array([[ 65,  62],\n",
       "       [ 13, 200]])"
      ]
     },
     "execution_count": 13,
     "metadata": {},
     "output_type": "execute_result"
    }
   ],
   "source": [
    "creat2DConfusionMatrix(2,cm11)"
   ]
  },
  {
   "cell_type": "code",
   "execution_count": 14,
   "metadata": {
    "id": "r3mfmc-_4SSI"
   },
   "outputs": [],
   "source": [
    "def accuracyCalculator(conf_mat):\n",
    "  mat2D_var =np.array(([0,0],[0,0]))\n",
    "  mat2D_var = creat2DConfusionMatrix(0,conf_mat)\n",
    "  C1_acc = binAccuracy(mat2D_var)\n",
    "\n",
    "  mat2D_var =np.array(([0,0],[0,0]))\n",
    "  mat2D_var = creat2DConfusionMatrix(1,conf_mat)\n",
    "  C2_acc = binAccuracy(mat2D_var)\n",
    "\n",
    "  mat2D_var =np.array(([0,0],[0,0]))\n",
    "  mat2D_var = creat2DConfusionMatrix(2,conf_mat)\n",
    "  C3_acc = binAccuracy(mat2D_var)\n",
    "\n",
    "#   mat2D_var =np.array(([0,0],[0,0]))\n",
    "#   mat2D_var = creat2DConfusionMatrix(3,conf_mat)\n",
    "#   C4_acc = binAccuracy(mat2D_var)\n",
    "\n",
    "  result = []\n",
    "#   result.append([C1_acc,C2_acc,C3_acc, C4_acc])\n",
    "  result.append([C1_acc,C2_acc,C3_acc])\n",
    "\n",
    "  return np.squeeze(result)\n",
    "###########################################################\n",
    "def sensitivityCalculator(conf_mat):\n",
    "  mat2D_var =np.array(([0,0],[0,0]))\n",
    "  mat2D_var = creat2DConfusionMatrix(0,conf_mat)\n",
    "  C1_acc = binSensitivity(mat2D_var)\n",
    "\n",
    "\n",
    "  mat2D_var =np.array(([0,0],[0,0]))\n",
    "  mat2D_var = creat2DConfusionMatrix(1,conf_mat)\n",
    "  C2_acc = binSensitivity(mat2D_var)\n",
    "\n",
    "\n",
    "  mat2D_var =np.array(([0,0],[0,0]))\n",
    "  mat2D_var = creat2DConfusionMatrix(2,conf_mat)\n",
    "  C3_acc = binSensitivity(mat2D_var)\n",
    "\n",
    "#   mat2D_var =np.array(([0,0],[0,0]))\n",
    "#   mat2D_var = creat2DConfusionMatrix(3,conf_mat)\n",
    "#   C4_acc = binSensitivity(mat2D_var)\n",
    "\n",
    "  result = []\n",
    "#   result.append([C1_acc,C2_acc,C3_acc, C4_acc])\n",
    "  result.append([C1_acc,C2_acc,C3_acc])\n",
    "\n",
    "  return np.squeeze(result)\n",
    "################################################################\n",
    "def specificityCalculator(conf_mat):\n",
    "  mat2D_var =np.array(([0,0],[0,0]))\n",
    "  mat2D_var = creat2DConfusionMatrix(0,conf_mat)\n",
    "  C1_acc = binSpecificity(mat2D_var)\n",
    "\n",
    "  mat2D_var =np.array(([0,0],[0,0]))\n",
    "  mat2D_var = creat2DConfusionMatrix(1,conf_mat)\n",
    "  C2_acc = binSpecificity(mat2D_var)\n",
    "\n",
    "  mat2D_var =np.array(([0,0],[0,0]))\n",
    "  mat2D_var = creat2DConfusionMatrix(2,conf_mat)\n",
    "  C3_acc = binSpecificity(mat2D_var)\n",
    "\n",
    "#   mat2D_var =np.array(([0,0],[0,0]))\n",
    "#   mat2D_var = creat2DConfusionMatrix(3,conf_mat)\n",
    "#   C4_acc = binSpecificity(mat2D_var)\n",
    "\n",
    "  result = []\n",
    "#   result.append([C1_acc,C2_acc,C3_acc, C4_acc])\n",
    "  result.append([C1_acc,C2_acc,C3_acc])\n",
    "\n",
    "  return np.squeeze(result)\n"
   ]
  },
  {
   "cell_type": "code",
   "execution_count": 15,
   "metadata": {
    "colab": {
     "base_uri": "https://localhost:8080/"
    },
    "id": "M1_qfu1x3hSO",
    "outputId": "ad9e4a37-e29f-42aa-c850-81fcd107a68f"
   },
   "outputs": [
    {
     "data": {
      "text/plain": [
       "array([[162,  20,  12],\n",
       "       [  3,  15,   1],\n",
       "       [ 42,  20,  65]], dtype=int64)"
      ]
     },
     "execution_count": 15,
     "metadata": {},
     "output_type": "execute_result"
    }
   ],
   "source": [
    "cm11"
   ]
  },
  {
   "cell_type": "code",
   "execution_count": 16,
   "metadata": {
    "colab": {
     "base_uri": "https://localhost:8080/"
    },
    "id": "-cqCcqde8pOH",
    "outputId": "efd651c1-fdf7-452d-86c0-14d0d4b8591d"
   },
   "outputs": [
    {
     "data": {
      "text/plain": [
       "array([0.77352941, 0.87058824, 0.77941176])"
      ]
     },
     "execution_count": 16,
     "metadata": {},
     "output_type": "execute_result"
    }
   ],
   "source": [
    "accuracyCalculator(cm11)"
   ]
  },
  {
   "cell_type": "code",
   "execution_count": null,
   "metadata": {
    "id": "CMfExRB1-M1l"
   },
   "outputs": [],
   "source": []
  },
  {
   "cell_type": "code",
   "execution_count": 17,
   "metadata": {
    "colab": {
     "base_uri": "https://localhost:8080/"
    },
    "id": "BzAE_snG-dv0",
    "outputId": "39667661-f781-4963-c984-acae51727922"
   },
   "outputs": [
    {
     "data": {
      "text/plain": [
       "array([0.83505155, 0.78947368, 0.51181102])"
      ]
     },
     "execution_count": 17,
     "metadata": {},
     "output_type": "execute_result"
    }
   ],
   "source": [
    "sensitivityCalculator(cm11)"
   ]
  },
  {
   "cell_type": "code",
   "execution_count": null,
   "metadata": {
    "id": "hZ9vxe7d-kNu"
   },
   "outputs": [],
   "source": []
  },
  {
   "cell_type": "code",
   "execution_count": 18,
   "metadata": {
    "colab": {
     "base_uri": "https://localhost:8080/"
    },
    "id": "go_2Z7aD-uUA",
    "outputId": "b2508cd6-7e15-413b-fea2-3ef566d7499f"
   },
   "outputs": [
    {
     "data": {
      "text/plain": [
       "array([0.69178082, 0.87538941, 0.93896714])"
      ]
     },
     "execution_count": 18,
     "metadata": {},
     "output_type": "execute_result"
    }
   ],
   "source": [
    "specificityCalculator(cm11)"
   ]
  },
  {
   "cell_type": "code",
   "execution_count": 19,
   "metadata": {
    "id": "l4EbKT9J2zqS"
   },
   "outputs": [],
   "source": [
    "# def accuracyCalculator(conf_mat):\n",
    "#   result = np.zeros(len(conf_mat))\n",
    "#   for i in range(0,len(conf_mat)):\n",
    "#     res=np.sum(conf_mat[i,:])\n",
    "#     result[i] = conf_mat[i][i]/res\n",
    "#   return result"
   ]
  },
  {
   "cell_type": "code",
   "execution_count": 20,
   "metadata": {
    "id": "IproSEqO1bf7"
   },
   "outputs": [],
   "source": [
    "# def sensitivityCalculator(conf_mat):\n",
    "#   result = np.zeros(len(conf_mat))\n",
    "#   for i in range(0,len(conf_mat)):\n",
    "#     res=np.sum(conf_mat[:,i])\n",
    "#     res = conf_mat[i][i]/res\n",
    "#     result[i] = res\n",
    "#   return result\n"
   ]
  },
  {
   "cell_type": "code",
   "execution_count": 21,
   "metadata": {
    "id": "Da56M2xk1mmr"
   },
   "outputs": [],
   "source": [
    "# def specificityCalculator(conf_mat):\n",
    "#   tn = np.zeros(3)\n",
    "#   fp = np.zeros(3)\n",
    "#   sp = np.zeros(3)\n",
    "#   tn[0]= conf_mat[1][1]+conf_mat[1][2]+conf_mat[2][1]+conf_mat[2][2]\n",
    "#   fp[0]= conf_mat[0][1]+conf_mat[0][2]\n",
    "\n",
    "#   tn[1]= conf_mat[0][0]+conf_mat[0][2]+conf_mat[2][0]+conf_mat[2][2]\n",
    "#   fp[1]= conf_mat[1][0]+conf_mat[1][2]\n",
    "\n",
    "#   tn[2]= conf_mat[0][0]+conf_mat[0][1]+conf_mat[1][0]+conf_mat[1][1]\n",
    "#   fp[2]= conf_mat[2][0]+conf_mat[2][1]\n",
    "\n",
    "#   sp = tn/(tn+fp)\n",
    "#   return sp\n"
   ]
  },
  {
   "cell_type": "code",
   "execution_count": 22,
   "metadata": {
    "id": "owVoTs_91plx"
   },
   "outputs": [],
   "source": [
    "accCM1=accuracyCalculator(cm11)\n",
    "senCM1=sensitivityCalculator(cm11)\n",
    "speCM1=specificityCalculator(cm11)"
   ]
  },
  {
   "cell_type": "code",
   "execution_count": 23,
   "metadata": {
    "id": "NCZrJOr52QOl"
   },
   "outputs": [],
   "source": [
    "accCM2=accuracyCalculator(cm22)\n",
    "senCM2=sensitivityCalculator(cm22)\n",
    "speCM2=specificityCalculator(cm22)"
   ]
  },
  {
   "cell_type": "code",
   "execution_count": 24,
   "metadata": {
    "id": "IsQJnlCK2T9l"
   },
   "outputs": [],
   "source": [
    "accCM3=accuracyCalculator(cm33)\n",
    "senCM3=sensitivityCalculator(cm33)\n",
    "speCM3=specificityCalculator(cm33)"
   ]
  },
  {
   "cell_type": "code",
   "execution_count": 25,
   "metadata": {
    "id": "zo7DhdqC2Y7b"
   },
   "outputs": [],
   "source": [
    "accCM4=accuracyCalculator(cm44)\n",
    "senCM4=sensitivityCalculator(cm44)\n",
    "speCM4=specificityCalculator(cm44)"
   ]
  },
  {
   "cell_type": "code",
   "execution_count": 26,
   "metadata": {
    "id": "n6oHrZJW2eJN"
   },
   "outputs": [],
   "source": [
    "accCM5=accuracyCalculator(cm55)\n",
    "senCM5=sensitivityCalculator(cm55)\n",
    "speCM5=specificityCalculator(cm55)"
   ]
  },
  {
   "cell_type": "code",
   "execution_count": 27,
   "metadata": {
    "colab": {
     "base_uri": "https://localhost:8080/"
    },
    "id": "S2Zna8E3i94d",
    "outputId": "ce2ecb9b-39e2-4052-93f5-1802fcc264a7"
   },
   "outputs": [
    {
     "data": {
      "text/plain": [
       "array([0.77352941, 0.87058824, 0.77941176])"
      ]
     },
     "execution_count": 27,
     "metadata": {},
     "output_type": "execute_result"
    }
   ],
   "source": [
    "np.squeeze(accCM1)"
   ]
  },
  {
   "cell_type": "code",
   "execution_count": 28,
   "metadata": {
    "colab": {
     "base_uri": "https://localhost:8080/"
    },
    "id": "EhQArE4Z_PHH",
    "outputId": "590cfbcc-f660-4a88-ee7a-8ac3e81c097e"
   },
   "outputs": [
    {
     "data": {
      "text/plain": [
       "array([[162,  20,  12],\n",
       "       [  3,  15,   1],\n",
       "       [ 42,  20,  65]], dtype=int64)"
      ]
     },
     "execution_count": 28,
     "metadata": {},
     "output_type": "execute_result"
    }
   ],
   "source": [
    "cm11"
   ]
  },
  {
   "cell_type": "code",
   "execution_count": 29,
   "metadata": {
    "colab": {
     "base_uri": "https://localhost:8080/"
    },
    "id": "f1_aT-oW2fnw",
    "outputId": "dd878a7c-582b-44b5-f419-81d8669a3768"
   },
   "outputs": [
    {
     "name": "stdout",
     "output_type": "stream",
     "text": [
      "[0.78352941 0.91058824 0.77882353]\n",
      "0.824313725490196\n",
      "0.06103553398696068\n"
     ]
    }
   ],
   "source": [
    "accTot= accCM1 + accCM2 + accCM3 + accCM4+ accCM5\n",
    "resultAcc = accTot/5\n",
    "print(resultAcc)\n",
    "accAvg = np.mean(resultAcc)\n",
    "print(accAvg)\n",
    "print(np.std(resultAcc))"
   ]
  },
  {
   "cell_type": "code",
   "execution_count": 30,
   "metadata": {
    "colab": {
     "base_uri": "https://localhost:8080/"
    },
    "id": "mGYcPbUW22Kz",
    "outputId": "2ac7aa19-e779-47a6-d6ac-4112b2452986"
   },
   "outputs": [
    {
     "name": "stdout",
     "output_type": "stream",
     "text": [
      "[0.79817605 0.64315789 0.65633046]\n",
      "0.6992214680609586\n",
      "0.07017780364742386\n"
     ]
    }
   ],
   "source": [
    "senTot= senCM1 + senCM2 + senCM3 + senCM4+ senCM5\n",
    "resultsen = senTot/5\n",
    "print(resultsen)\n",
    "senAvg = np.mean(resultsen)\n",
    "print(senAvg)\n",
    "print(np.std(resultsen))"
   ]
  },
  {
   "cell_type": "code",
   "execution_count": 31,
   "metadata": {
    "colab": {
     "base_uri": "https://localhost:8080/"
    },
    "id": "lk9sKbla3OUT",
    "outputId": "8ec7793e-a8f8-488a-ac6a-74f510c0e66c"
   },
   "outputs": [
    {
     "name": "stdout",
     "output_type": "stream",
     "text": [
      "[0.76415683 0.92699182 0.85134483]\n",
      "0.847497825741951\n",
      "0.06653274189648066\n"
     ]
    }
   ],
   "source": [
    "speTot= speCM1 + speCM2 + speCM3 + speCM4+ speCM5\n",
    "resultspe = speTot/5\n",
    "print(resultspe)\n",
    "speAvg = np.mean(resultspe)\n",
    "print(speAvg)\n",
    "print(np.std(resultspe))"
   ]
  },
  {
   "cell_type": "markdown",
   "metadata": {
    "id": "GvolQA-JjjUq"
   },
   "source": [
    "Another Way to Calculate the mean"
   ]
  },
  {
   "cell_type": "code",
   "execution_count": 32,
   "metadata": {
    "colab": {
     "base_uri": "https://localhost:8080/"
    },
    "id": "DY5CAjPPkXSM",
    "outputId": "1da14b5e-3dc5-438d-975a-1af33db9feac"
   },
   "outputs": [],
   "source": [
    "# speTot= speCM1 + speCM2 + speCM3 + speCM4+ speCM5\n",
    "# resultspe = np.asarray([speCM1,speCM2,speCM3,speCM4,speCM5])\n",
    "\n",
    "# speAvg = np.mean(resultspe)\n",
    "# print(resultspe)\n",
    "# print(speAvg)\n",
    "# print(np.std(resultspe))"
   ]
  },
  {
   "cell_type": "code",
   "execution_count": 33,
   "metadata": {
    "colab": {
     "base_uri": "https://localhost:8080/"
    },
    "id": "aW510zZY6Ss2",
    "outputId": "87079c24-fbb7-49ca-eb8a-c2ce4f17c62b"
   },
   "outputs": [
    {
     "data": {
      "text/plain": [
       "array([0.77352941, 0.87058824, 0.77941176])"
      ]
     },
     "execution_count": 33,
     "metadata": {},
     "output_type": "execute_result"
    }
   ],
   "source": [
    "accCM1"
   ]
  },
  {
   "cell_type": "code",
   "execution_count": 34,
   "metadata": {
    "colab": {
     "base_uri": "https://localhost:8080/"
    },
    "id": "lznsCGN8hU_8",
    "outputId": "b76175e3-41c7-4cf3-a0ab-c8716c51e0d9"
   },
   "outputs": [
    {
     "name": "stdout",
     "output_type": "stream",
     "text": [
      "0.7835294117647058     0.9105882352941176     0.7788235294117647    \n",
      "0.010620864756039865     0.031104244862123015     0.009913117380207446    \n",
      "0.824313725490196\n",
      "0.017212742332790108\n"
     ]
    }
   ],
   "source": [
    "accGroup1 = np.asarray([accCM1[0],accCM2[0],accCM3[0],accCM4[0],accCM5[0]])\n",
    "accGroup2 = np.asarray([accCM1[1],accCM2[1],accCM3[1],accCM4[1],accCM5[1]])\n",
    "accGroup3 = np.asarray([accCM1[2],accCM2[2],accCM3[2],accCM4[2],accCM5[2]])\n",
    "# accGroup4 = np.asarray([accCM1[3],accCM2[3],accCM3[3],accCM4[3],accCM5[3]])\n",
    "\n",
    "print(np.mean(accGroup1),'   ',np.mean(accGroup2),'   ',np.mean(accGroup3), '   ')\n",
    "print(np.std(accGroup1),'   ',np.std(accGroup2),'   ',np.std(accGroup3),'   ')\n",
    "print((np.mean(accGroup1)+np.mean(accGroup2)+np.mean(accGroup3))/len(class_names))\n",
    "print((np.std(accGroup1)+np.std(accGroup2)+np.std(accGroup3))/len(class_names))"
   ]
  },
  {
   "cell_type": "code",
   "execution_count": 35,
   "metadata": {
    "colab": {
     "base_uri": "https://localhost:8080/"
    },
    "id": "dUpayHugjzfY",
    "outputId": "c7b4378c-720f-4932-94d1-5cc4955b5309"
   },
   "outputs": [
    {
     "name": "stdout",
     "output_type": "stream",
     "text": [
      "0.7981760507533704     0.6431578947368422     0.6563304586926634    \n",
      "0.028059961955518065     0.08604257143834669     0.08774993335886692    \n",
      "0.6992214680609586\n",
      "0.06728415558424389\n"
     ]
    }
   ],
   "source": [
    "senGroup1 = np.asarray([senCM1[0],senCM2[0],senCM3[0],senCM4[0],senCM5[0]])\n",
    "senGroup2 = np.asarray([senCM1[1],senCM2[1],senCM3[1],senCM4[1],senCM5[1]])\n",
    "senGroup3 = np.asarray([senCM1[2],senCM2[2],senCM3[2],senCM4[2],senCM5[2]])\n",
    "# senGroup4 = np.asarray([senCM1[3],senCM2[3],senCM3[3],senCM4[3],senCM5[3]])\n",
    "\n",
    "print(np.mean(senGroup1),'   ',np.mean(senGroup2),'   ',np.mean(senGroup3),'   ')\n",
    "print(np.std(senGroup1),'   ',np.std(senGroup2),'   ',np.std(senGroup3),'   ')\n",
    "print((np.mean(senGroup1)+np.mean(senGroup2)+np.mean(senGroup3))/len(class_names))\n",
    "print((np.std(senGroup1)+np.std(senGroup2)+np.std(senGroup3))/len(class_names))"
   ]
  },
  {
   "cell_type": "code",
   "execution_count": 36,
   "metadata": {
    "colab": {
     "base_uri": "https://localhost:8080/"
    },
    "id": "oMRi2g1BkDfE",
    "outputId": "7ae91913-226c-4db3-a3ac-7c3e5e0325c8"
   },
   "outputs": [
    {
     "name": "stdout",
     "output_type": "stream",
     "text": [
      "0.7641568256967408     0.9269918224299065     0.8513448290992057    \n",
      "0.05214296409567203     0.03523079670302958     0.056559746376344845    \n",
      "0.847497825741951\n",
      "0.04797783572501549\n"
     ]
    }
   ],
   "source": [
    "speGroup1 = np.asarray([speCM1[0],speCM2[0],speCM3[0],speCM4[0],speCM5[0]])\n",
    "speGroup2 = np.asarray([speCM1[1],speCM2[1],speCM3[1],speCM4[1],speCM5[1]])\n",
    "speGroup3 = np.asarray([speCM1[2],speCM2[2],speCM3[2],speCM4[2],speCM5[2]])\n",
    "# speGroup4 = np.asarray([speCM1[3],speCM2[3],speCM3[3],speCM4[3],speCM5[3]])\n",
    "\n",
    "print(np.mean(speGroup1),'   ',np.mean(speGroup2),'   ',np.mean(speGroup3),'   ')\n",
    "print(np.std(speGroup1),'   ',np.std(speGroup2),'   ',np.std(speGroup3),'   ')\n",
    "print((np.mean(speGroup1)+np.mean(speGroup2)+np.mean(speGroup3))/len(class_names))\n",
    "print((np.std(speGroup1)+np.std(speGroup2)+np.std(speGroup3))/len(class_names))"
   ]
  },
  {
   "cell_type": "code",
   "execution_count": 37,
   "metadata": {
    "colab": {
     "base_uri": "https://localhost:8080/",
     "height": 1000
    },
    "id": "GXoRSpmRBCbI",
    "outputId": "e6146af2-5c25-4c13-ae19-840e96878cb3"
   },
   "outputs": [],
   "source": [
    "import pandas as pd\n",
    "import matplotlib.pyplot as plt\n",
    "from contextlib import contextmanager\n",
    "\n",
    "@contextmanager\n",
    "def change_dir(destination, source = os.getcwd()):\n",
    "    try:\n",
    "        cwd = source\n",
    "        os.chdir(destination)\n",
    "        yield\n",
    "    finally:\n",
    "        os.chdir(cwd)\n",
    "\n",
    "# plt.figure(figsize=(50, 50))\n",
    "\n",
    "\n",
    "# data222=[np.append(resultAcc,accAvg),np.append(resultsen,senAvg),np.append(resultspe,speAvg)]\n",
    "\n",
    "data222=[np.append(resultAcc,accAvg),np.append(resultsen,senAvg),np.append(resultspe,speAvg)]\n",
    "\n",
    "data=np.around(np.multiply(data222,100), decimals=3)\n",
    "# data=[[1,2,3],\n",
    "#       [5,6,7],\n",
    "#       [8,9,10]]"
   ]
  },
  {
   "cell_type": "code",
   "execution_count": 38,
   "metadata": {
    "id": "7dFgm1Rc-cVG"
   },
   "outputs": [
    {
     "data": {
      "text/plain": [
       "[array([0.78352941, 0.91058824, 0.77882353, 0.82431373]),\n",
       " array([0.79817605, 0.64315789, 0.65633046, 0.69922147]),\n",
       " array([0.76415683, 0.92699182, 0.85134483, 0.84749783])]"
      ]
     },
     "execution_count": 38,
     "metadata": {},
     "output_type": "execute_result"
    }
   ],
   "source": [
    "data222"
   ]
  },
  {
   "cell_type": "code",
   "execution_count": 39,
   "metadata": {
    "id": "yl9hirPy-T3G"
   },
   "outputs": [
    {
     "data": {
      "image/png": "[encoded data removed]",
      "text/plain": [
       "<Figure size 640x480 with 1 Axes>"
      ]
     },
     "metadata": {},
     "output_type": "display_data"
    }
   ],
   "source": [
    "fig, ax =plt.subplots(1,1)\n",
    "class_names = ['Normal','Pre-Plus','Plus'] # Used for the confusion matrix at the end\n",
    "column_labels = class_names + ['Average']\n",
    "\n",
    "rowLabels=[\"Acc(mean %)\",\"Se(mean %)\",\"Sp(mean %)\"]\n",
    "\n",
    "df=pd.DataFrame(data,columns=column_labels)\n",
    "ax.axis('tight')\n",
    "ax.axis('off')\n",
    "ax.table(cellText=df.values,\n",
    "        colLabels=df.columns,\n",
    "        rowLabels=rowLabels,\n",
    "        rowColours =[\"yellow\"] * 3,\n",
    "        colColours =[\"yellow\"] * 5,\n",
    "        loc=\"center\")\n",
    "\n",
    "# plt.show()\n",
    "# newDir = os.path.join(os.getcwd(),'tvst')\n",
    "with change_dir(csv_dir):\n",
    "    plt.savefig('Table.png',bbox_inches='tight',dpi = 150)\n",
    "    df= df.rename(index= {0: rowLabels[0], 1: rowLabels[1], 2: rowLabels[2]})\n",
    "    df.to_csv('Table.csv', index= True)\n",
    "\n"
   ]
  },
  {
   "cell_type": "code",
   "execution_count": 40,
   "metadata": {
    "id": "lDNu5GWQyf1w"
   },
   "outputs": [],
   "source": [
    "# CmSaveTotal = cm11+cm22+cm33+cm44+cm55"
   ]
  },
  {
   "cell_type": "code",
   "execution_count": 41,
   "metadata": {
    "id": "I4I2L8YPyglg"
   },
   "outputs": [
    {
     "ename": "OSError",
     "evalue": "Cannot save file into a non-existent directory: 'tvst'",
     "output_type": "error",
     "traceback": [
      "\u001b[1;31m---------------------------------------------------------------------------\u001b[0m",
      "\u001b[1;31mOSError\u001b[0m                                   Traceback (most recent call last)",
      "Cell \u001b[1;32mIn[41], line 2\u001b[0m\n\u001b[0;32m      1\u001b[0m df_CmSaveTotal\u001b[38;5;241m=\u001b[39mpd\u001b[38;5;241m.\u001b[39mDataFrame(CmSaveTotal)\n\u001b[1;32m----> 2\u001b[0m \u001b[43mdf_CmSaveTotal\u001b[49m\u001b[38;5;241;43m.\u001b[39;49m\u001b[43mto_csv\u001b[49m\u001b[43m(\u001b[49m\u001b[38;5;124;43m'\u001b[39;49m\u001b[38;5;124;43mtvst/df_CmSaveTotal.csv\u001b[39;49m\u001b[38;5;124;43m'\u001b[39;49m\u001b[43m)\u001b[49m\n",
      "File \u001b[1;32mC:\\ProgramData\\Miniconda3\\envs\\py38_pipTF\\lib\\site-packages\\pandas\\core\\generic.py:3551\u001b[0m, in \u001b[0;36mNDFrame.to_csv\u001b[1;34m(self, path_or_buf, sep, na_rep, float_format, columns, header, index, index_label, mode, encoding, compression, quoting, quotechar, line_terminator, chunksize, date_format, doublequote, escapechar, decimal, errors, storage_options)\u001b[0m\n\u001b[0;32m   3540\u001b[0m df \u001b[38;5;241m=\u001b[39m \u001b[38;5;28mself\u001b[39m \u001b[38;5;28;01mif\u001b[39;00m \u001b[38;5;28misinstance\u001b[39m(\u001b[38;5;28mself\u001b[39m, ABCDataFrame) \u001b[38;5;28;01melse\u001b[39;00m \u001b[38;5;28mself\u001b[39m\u001b[38;5;241m.\u001b[39mto_frame()\n\u001b[0;32m   3542\u001b[0m formatter \u001b[38;5;241m=\u001b[39m DataFrameFormatter(\n\u001b[0;32m   3543\u001b[0m     frame\u001b[38;5;241m=\u001b[39mdf,\n\u001b[0;32m   3544\u001b[0m     header\u001b[38;5;241m=\u001b[39mheader,\n\u001b[1;32m   (...)\u001b[0m\n\u001b[0;32m   3548\u001b[0m     decimal\u001b[38;5;241m=\u001b[39mdecimal,\n\u001b[0;32m   3549\u001b[0m )\n\u001b[1;32m-> 3551\u001b[0m \u001b[38;5;28;01mreturn\u001b[39;00m \u001b[43mDataFrameRenderer\u001b[49m\u001b[43m(\u001b[49m\u001b[43mformatter\u001b[49m\u001b[43m)\u001b[49m\u001b[38;5;241;43m.\u001b[39;49m\u001b[43mto_csv\u001b[49m\u001b[43m(\u001b[49m\n\u001b[0;32m   3552\u001b[0m \u001b[43m    \u001b[49m\u001b[43mpath_or_buf\u001b[49m\u001b[43m,\u001b[49m\n\u001b[0;32m   3553\u001b[0m \u001b[43m    \u001b[49m\u001b[43mline_terminator\u001b[49m\u001b[38;5;241;43m=\u001b[39;49m\u001b[43mline_terminator\u001b[49m\u001b[43m,\u001b[49m\n\u001b[0;32m   3554\u001b[0m \u001b[43m    \u001b[49m\u001b[43msep\u001b[49m\u001b[38;5;241;43m=\u001b[39;49m\u001b[43msep\u001b[49m\u001b[43m,\u001b[49m\n\u001b[0;32m   3555\u001b[0m \u001b[43m    \u001b[49m\u001b[43mencoding\u001b[49m\u001b[38;5;241;43m=\u001b[39;49m\u001b[43mencoding\u001b[49m\u001b[43m,\u001b[49m\n\u001b[0;32m   3556\u001b[0m \u001b[43m    \u001b[49m\u001b[43merrors\u001b[49m\u001b[38;5;241;43m=\u001b[39;49m\u001b[43merrors\u001b[49m\u001b[43m,\u001b[49m\n\u001b[0;32m   3557\u001b[0m \u001b[43m    \u001b[49m\u001b[43mcompression\u001b[49m\u001b[38;5;241;43m=\u001b[39;49m\u001b[43mcompression\u001b[49m\u001b[43m,\u001b[49m\n\u001b[0;32m   3558\u001b[0m \u001b[43m    \u001b[49m\u001b[43mquoting\u001b[49m\u001b[38;5;241;43m=\u001b[39;49m\u001b[43mquoting\u001b[49m\u001b[43m,\u001b[49m\n\u001b[0;32m   3559\u001b[0m \u001b[43m    \u001b[49m\u001b[43mcolumns\u001b[49m\u001b[38;5;241;43m=\u001b[39;49m\u001b[43mcolumns\u001b[49m\u001b[43m,\u001b[49m\n\u001b[0;32m   3560\u001b[0m \u001b[43m    \u001b[49m\u001b[43mindex_label\u001b[49m\u001b[38;5;241;43m=\u001b[39;49m\u001b[43mindex_label\u001b[49m\u001b[43m,\u001b[49m\n\u001b[0;32m   3561\u001b[0m \u001b[43m    \u001b[49m\u001b[43mmode\u001b[49m\u001b[38;5;241;43m=\u001b[39;49m\u001b[43mmode\u001b[49m\u001b[43m,\u001b[49m\n\u001b[0;32m   3562\u001b[0m \u001b[43m    \u001b[49m\u001b[43mchunksize\u001b[49m\u001b[38;5;241;43m=\u001b[39;49m\u001b[43mchunksize\u001b[49m\u001b[43m,\u001b[49m\n\u001b[0;32m   3563\u001b[0m \u001b[43m    \u001b[49m\u001b[43mquotechar\u001b[49m\u001b[38;5;241;43m=\u001b[39;49m\u001b[43mquotechar\u001b[49m\u001b[43m,\u001b[49m\n\u001b[0;32m   3564\u001b[0m \u001b[43m    \u001b[49m\u001b[43mdate_format\u001b[49m\u001b[38;5;241;43m=\u001b[39;49m\u001b[43mdate_format\u001b[49m\u001b[43m,\u001b[49m\n\u001b[0;32m   3565\u001b[0m \u001b[43m    \u001b[49m\u001b[43mdoublequote\u001b[49m\u001b[38;5;241;43m=\u001b[39;49m\u001b[43mdoublequote\u001b[49m\u001b[43m,\u001b[49m\n\u001b[0;32m   3566\u001b[0m \u001b[43m    \u001b[49m\u001b[43mescapechar\u001b[49m\u001b[38;5;241;43m=\u001b[39;49m\u001b[43mescapechar\u001b[49m\u001b[43m,\u001b[49m\n\u001b[0;32m   3567\u001b[0m \u001b[43m    \u001b[49m\u001b[43mstorage_options\u001b[49m\u001b[38;5;241;43m=\u001b[39;49m\u001b[43mstorage_options\u001b[49m\u001b[43m,\u001b[49m\n\u001b[0;32m   3568\u001b[0m \u001b[43m\u001b[49m\u001b[43m)\u001b[49m\n",
      "File \u001b[1;32mC:\\ProgramData\\Miniconda3\\envs\\py38_pipTF\\lib\\site-packages\\pandas\\io\\formats\\format.py:1180\u001b[0m, in \u001b[0;36mDataFrameRenderer.to_csv\u001b[1;34m(self, path_or_buf, encoding, sep, columns, index_label, mode, compression, quoting, quotechar, line_terminator, chunksize, date_format, doublequote, escapechar, errors, storage_options)\u001b[0m\n\u001b[0;32m   1159\u001b[0m     created_buffer \u001b[38;5;241m=\u001b[39m \u001b[38;5;28;01mFalse\u001b[39;00m\n\u001b[0;32m   1161\u001b[0m csv_formatter \u001b[38;5;241m=\u001b[39m CSVFormatter(\n\u001b[0;32m   1162\u001b[0m     path_or_buf\u001b[38;5;241m=\u001b[39mpath_or_buf,\n\u001b[0;32m   1163\u001b[0m     line_terminator\u001b[38;5;241m=\u001b[39mline_terminator,\n\u001b[1;32m   (...)\u001b[0m\n\u001b[0;32m   1178\u001b[0m     formatter\u001b[38;5;241m=\u001b[39m\u001b[38;5;28mself\u001b[39m\u001b[38;5;241m.\u001b[39mfmt,\n\u001b[0;32m   1179\u001b[0m )\n\u001b[1;32m-> 1180\u001b[0m \u001b[43mcsv_formatter\u001b[49m\u001b[38;5;241;43m.\u001b[39;49m\u001b[43msave\u001b[49m\u001b[43m(\u001b[49m\u001b[43m)\u001b[49m\n\u001b[0;32m   1182\u001b[0m \u001b[38;5;28;01mif\u001b[39;00m created_buffer:\n\u001b[0;32m   1183\u001b[0m     \u001b[38;5;28;01massert\u001b[39;00m \u001b[38;5;28misinstance\u001b[39m(path_or_buf, StringIO)\n",
      "File \u001b[1;32mC:\\ProgramData\\Miniconda3\\envs\\py38_pipTF\\lib\\site-packages\\pandas\\io\\formats\\csvs.py:241\u001b[0m, in \u001b[0;36mCSVFormatter.save\u001b[1;34m(self)\u001b[0m\n\u001b[0;32m    237\u001b[0m \u001b[38;5;250m\u001b[39m\u001b[38;5;124;03m\"\"\"\u001b[39;00m\n\u001b[0;32m    238\u001b[0m \u001b[38;5;124;03mCreate the writer & save.\u001b[39;00m\n\u001b[0;32m    239\u001b[0m \u001b[38;5;124;03m\"\"\"\u001b[39;00m\n\u001b[0;32m    240\u001b[0m \u001b[38;5;66;03m# apply compression and byte/text conversion\u001b[39;00m\n\u001b[1;32m--> 241\u001b[0m \u001b[38;5;28;01mwith\u001b[39;00m \u001b[43mget_handle\u001b[49m\u001b[43m(\u001b[49m\n\u001b[0;32m    242\u001b[0m \u001b[43m    \u001b[49m\u001b[38;5;28;43mself\u001b[39;49m\u001b[38;5;241;43m.\u001b[39;49m\u001b[43mfilepath_or_buffer\u001b[49m\u001b[43m,\u001b[49m\n\u001b[0;32m    243\u001b[0m \u001b[43m    \u001b[49m\u001b[38;5;28;43mself\u001b[39;49m\u001b[38;5;241;43m.\u001b[39;49m\u001b[43mmode\u001b[49m\u001b[43m,\u001b[49m\n\u001b[0;32m    244\u001b[0m \u001b[43m    \u001b[49m\u001b[43mencoding\u001b[49m\u001b[38;5;241;43m=\u001b[39;49m\u001b[38;5;28;43mself\u001b[39;49m\u001b[38;5;241;43m.\u001b[39;49m\u001b[43mencoding\u001b[49m\u001b[43m,\u001b[49m\n\u001b[0;32m    245\u001b[0m \u001b[43m    \u001b[49m\u001b[43merrors\u001b[49m\u001b[38;5;241;43m=\u001b[39;49m\u001b[38;5;28;43mself\u001b[39;49m\u001b[38;5;241;43m.\u001b[39;49m\u001b[43merrors\u001b[49m\u001b[43m,\u001b[49m\n\u001b[0;32m    246\u001b[0m \u001b[43m    \u001b[49m\u001b[43mcompression\u001b[49m\u001b[38;5;241;43m=\u001b[39;49m\u001b[38;5;28;43mself\u001b[39;49m\u001b[38;5;241;43m.\u001b[39;49m\u001b[43mcompression\u001b[49m\u001b[43m,\u001b[49m\n\u001b[0;32m    247\u001b[0m \u001b[43m    \u001b[49m\u001b[43mstorage_options\u001b[49m\u001b[38;5;241;43m=\u001b[39;49m\u001b[38;5;28;43mself\u001b[39;49m\u001b[38;5;241;43m.\u001b[39;49m\u001b[43mstorage_options\u001b[49m\u001b[43m,\u001b[49m\n\u001b[0;32m    248\u001b[0m \u001b[43m\u001b[49m\u001b[43m)\u001b[49m \u001b[38;5;28;01mas\u001b[39;00m handles:\n\u001b[0;32m    249\u001b[0m \n\u001b[0;32m    250\u001b[0m     \u001b[38;5;66;03m# Note: self.encoding is irrelevant here\u001b[39;00m\n\u001b[0;32m    251\u001b[0m     \u001b[38;5;28mself\u001b[39m\u001b[38;5;241m.\u001b[39mwriter \u001b[38;5;241m=\u001b[39m csvlib\u001b[38;5;241m.\u001b[39mwriter(\n\u001b[0;32m    252\u001b[0m         handles\u001b[38;5;241m.\u001b[39mhandle,\n\u001b[0;32m    253\u001b[0m         lineterminator\u001b[38;5;241m=\u001b[39m\u001b[38;5;28mself\u001b[39m\u001b[38;5;241m.\u001b[39mline_terminator,\n\u001b[1;32m   (...)\u001b[0m\n\u001b[0;32m    258\u001b[0m         quotechar\u001b[38;5;241m=\u001b[39m\u001b[38;5;28mself\u001b[39m\u001b[38;5;241m.\u001b[39mquotechar,\n\u001b[0;32m    259\u001b[0m     )\n\u001b[0;32m    261\u001b[0m     \u001b[38;5;28mself\u001b[39m\u001b[38;5;241m.\u001b[39m_save()\n",
      "File \u001b[1;32mC:\\ProgramData\\Miniconda3\\envs\\py38_pipTF\\lib\\site-packages\\pandas\\io\\common.py:694\u001b[0m, in \u001b[0;36mget_handle\u001b[1;34m(path_or_buf, mode, encoding, compression, memory_map, is_text, errors, storage_options)\u001b[0m\n\u001b[0;32m    692\u001b[0m \u001b[38;5;66;03m# Only for write methods\u001b[39;00m\n\u001b[0;32m    693\u001b[0m \u001b[38;5;28;01mif\u001b[39;00m \u001b[38;5;124m\"\u001b[39m\u001b[38;5;124mr\u001b[39m\u001b[38;5;124m\"\u001b[39m \u001b[38;5;129;01mnot\u001b[39;00m \u001b[38;5;129;01min\u001b[39;00m mode \u001b[38;5;129;01mand\u001b[39;00m is_path:\n\u001b[1;32m--> 694\u001b[0m     \u001b[43mcheck_parent_directory\u001b[49m\u001b[43m(\u001b[49m\u001b[38;5;28;43mstr\u001b[39;49m\u001b[43m(\u001b[49m\u001b[43mhandle\u001b[49m\u001b[43m)\u001b[49m\u001b[43m)\u001b[49m\n\u001b[0;32m    696\u001b[0m \u001b[38;5;28;01mif\u001b[39;00m compression:\n\u001b[0;32m    697\u001b[0m     \u001b[38;5;28;01mif\u001b[39;00m compression \u001b[38;5;241m!=\u001b[39m \u001b[38;5;124m\"\u001b[39m\u001b[38;5;124mzstd\u001b[39m\u001b[38;5;124m\"\u001b[39m:\n\u001b[0;32m    698\u001b[0m         \u001b[38;5;66;03m# compression libraries do not like an explicit text-mode\u001b[39;00m\n",
      "File \u001b[1;32mC:\\ProgramData\\Miniconda3\\envs\\py38_pipTF\\lib\\site-packages\\pandas\\io\\common.py:568\u001b[0m, in \u001b[0;36mcheck_parent_directory\u001b[1;34m(path)\u001b[0m\n\u001b[0;32m    566\u001b[0m parent \u001b[38;5;241m=\u001b[39m Path(path)\u001b[38;5;241m.\u001b[39mparent\n\u001b[0;32m    567\u001b[0m \u001b[38;5;28;01mif\u001b[39;00m \u001b[38;5;129;01mnot\u001b[39;00m parent\u001b[38;5;241m.\u001b[39mis_dir():\n\u001b[1;32m--> 568\u001b[0m     \u001b[38;5;28;01mraise\u001b[39;00m \u001b[38;5;167;01mOSError\u001b[39;00m(\u001b[38;5;124mrf\u001b[39m\u001b[38;5;124m\"\u001b[39m\u001b[38;5;124mCannot save file into a non-existent directory: \u001b[39m\u001b[38;5;124m'\u001b[39m\u001b[38;5;132;01m{\u001b[39;00mparent\u001b[38;5;132;01m}\u001b[39;00m\u001b[38;5;124m'\u001b[39m\u001b[38;5;124m\"\u001b[39m)\n",
      "\u001b[1;31mOSError\u001b[0m: Cannot save file into a non-existent directory: 'tvst'"
     ]
    }
   ],
   "source": [
    "# df_CmSaveTotal=pd.DataFrame(CmSaveTotal)\n",
    "# df_CmSaveTotal.to_csv('tvst/df_CmSaveTotal.csv')"
   ]
  }
 ],
 "metadata": {
  "colab": {
   "provenance": []
  },
  "kernelspec": {
   "display_name": "Python 3 (ipykernel)",
   "language": "python",
   "name": "python3"
  },
  "language_info": {
   "codemirror_mode": {
    "name": "ipython",
    "version": 3
   },
   "file_extension": ".py",
   "mimetype": "text/x-python",
   "name": "python",
   "nbconvert_exporter": "python",
   "pygments_lexer": "ipython3",
   "version": "3.8.19"
  }
 },
 "nbformat": 4,
 "nbformat_minor": 1
}
